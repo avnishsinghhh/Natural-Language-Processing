{
 "cells": [
  {
   "cell_type": "markdown",
   "id": "talented-prague",
   "metadata": {},
   "source": [
    "### Levenshtein distance"
   ]
  },
  {
   "cell_type": "code",
   "execution_count": 1,
   "id": "minute-times",
   "metadata": {},
   "outputs": [],
   "source": [
    "#pip install python-Levenshtein"
   ]
  },
  {
   "cell_type": "code",
   "execution_count": 2,
   "id": "secret-million",
   "metadata": {},
   "outputs": [],
   "source": [
    "import Levenshtein"
   ]
  },
  {
   "cell_type": "code",
   "execution_count": 3,
   "id": "vocal-driver",
   "metadata": {},
   "outputs": [],
   "source": [
    "Sent_1 = 'Hello Wordl'\n",
    "Sent_2 = \"Hello World\""
   ]
  },
  {
   "cell_type": "markdown",
   "id": "conservative-scanner",
   "metadata": {},
   "source": [
    "The Levenshtein distance between two words is the minimum number of single-character edits (insertions, deletions or substitutions) required to change one word into the other"
   ]
  },
  {
   "cell_type": "code",
   "execution_count": 4,
   "id": "alpha-circuit",
   "metadata": {},
   "outputs": [
    {
     "data": {
      "text/plain": [
       "2"
      ]
     },
     "execution_count": 4,
     "metadata": {},
     "output_type": "execute_result"
    }
   ],
   "source": [
    "Levenshtein.distance(Sent_1, Sent_2)"
   ]
  },
  {
   "cell_type": "code",
   "execution_count": 5,
   "id": "incorporate-triumph",
   "metadata": {},
   "outputs": [],
   "source": [
    "Sent_3 = 'This is my sentence'\n",
    "Sent_4 = 'This sentence is similar to my sentence'"
   ]
  },
  {
   "cell_type": "markdown",
   "id": "hybrid-upgrade",
   "metadata": {},
   "source": [
    "Levenshtein distance is not suitable for long strings as it shows large distances even though sentences give similar information."
   ]
  },
  {
   "cell_type": "code",
   "execution_count": 6,
   "id": "assured-thickness",
   "metadata": {},
   "outputs": [
    {
     "data": {
      "text/plain": [
       "20"
      ]
     },
     "execution_count": 6,
     "metadata": {},
     "output_type": "execute_result"
    }
   ],
   "source": [
    "Levenshtein.distance(Sent_3, Sent_4)"
   ]
  },
  {
   "cell_type": "markdown",
   "id": "touched-probability",
   "metadata": {},
   "source": [
    "To find similarity between larger sentences we can use Cosine Similarity"
   ]
  },
  {
   "cell_type": "markdown",
   "id": "thousand-assets",
   "metadata": {},
   "source": [
    "### Cosine Similarity"
   ]
  },
  {
   "cell_type": "markdown",
   "id": "friendly-cooper",
   "metadata": {},
   "source": [
    "Cosine similarity is a measure of similarity between two non-zero vectors of an inner product space that measures the cosine of the angle between them"
   ]
  },
  {
   "cell_type": "code",
   "execution_count": 7,
   "id": "qualified-polish",
   "metadata": {},
   "outputs": [],
   "source": [
    "import string\n",
    "from sklearn.metrics.pairwise import cosine_similarity\n",
    "from sklearn.feature_extraction.text import CountVectorizer, TfidfTransformer\n",
    "from nltk.corpus import stopwords\n",
    "\n",
    "stopwords = stopwords.words('english')"
   ]
  },
  {
   "cell_type": "code",
   "execution_count": 8,
   "id": "limited-assets",
   "metadata": {},
   "outputs": [],
   "source": [
    "sentences = [\n",
    "    'This is a foo bar sentence!!',\n",
    "    'This sentence is similar to a foo bar sentence.',\n",
    "    'This is another string, but it is not quite similar to the previous ones.',\n",
    "    'I am also just another string.'\n",
    "]"
   ]
  },
  {
   "cell_type": "code",
   "execution_count": 9,
   "id": "uniform-gossip",
   "metadata": {},
   "outputs": [
    {
     "data": {
      "text/plain": [
       "['foo bar sentence',\n",
       " 'sentence similar foo bar sentence',\n",
       " 'another string quite similar previous ones',\n",
       " 'also another string']"
      ]
     },
     "execution_count": 9,
     "metadata": {},
     "output_type": "execute_result"
    }
   ],
   "source": [
    "def clean_string(text):\n",
    "    text = ''.join([word for word in text if word not in string.punctuation])\n",
    "    text = text.lower()\n",
    "    text = ' '.join([word for word in text.split() if word not in stopwords])\n",
    "    return text\n",
    "\n",
    "cleaned = list(map(clean_string, sentences))\n",
    "\n",
    "cleaned"
   ]
  },
  {
   "cell_type": "markdown",
   "id": "correct-tutorial",
   "metadata": {},
   "source": [
    "Calculating Count Vectors"
   ]
  },
  {
   "cell_type": "code",
   "execution_count": 10,
   "id": "usual-reality",
   "metadata": {},
   "outputs": [
    {
     "data": {
      "text/plain": [
       "array([[0, 0, 1, 1, 0, 0, 0, 1, 0, 0],\n",
       "       [0, 0, 1, 1, 0, 0, 0, 2, 1, 0],\n",
       "       [0, 1, 0, 0, 1, 1, 1, 0, 1, 1],\n",
       "       [1, 1, 0, 0, 0, 0, 0, 0, 0, 1]])"
      ]
     },
     "execution_count": 10,
     "metadata": {},
     "output_type": "execute_result"
    }
   ],
   "source": [
    "count_vectors = CountVectorizer().fit_transform(cleaned).toarray()\n",
    "\n",
    "count_vectors"
   ]
  },
  {
   "cell_type": "code",
   "execution_count": 11,
   "id": "literary-sellers",
   "metadata": {},
   "outputs": [
    {
     "data": {
      "text/plain": [
       "array([[1.        , 0.87287156, 0.        , 0.        ],\n",
       "       [0.87287156, 1.        , 0.15430335, 0.        ],\n",
       "       [0.        , 0.15430335, 1.        , 0.47140452],\n",
       "       [0.        , 0.        , 0.47140452, 1.        ]])"
      ]
     },
     "execution_count": 11,
     "metadata": {},
     "output_type": "execute_result"
    }
   ],
   "source": [
    "count_csim = cosine_similarity(count_vectors)\n",
    "\n",
    "count_csim"
   ]
  },
  {
   "cell_type": "code",
   "execution_count": 12,
   "id": "working-basic",
   "metadata": {},
   "outputs": [],
   "source": [
    "def cosine_sim_vectors(vec1, vec2):\n",
    "    vec1 = vec1.reshape(1, -1)\n",
    "    vec2 = vec2.reshape(1, -1)\n",
    "    \n",
    "    return cosine_similarity(vec1, vec2)[0][0]"
   ]
  },
  {
   "cell_type": "code",
   "execution_count": 13,
   "id": "excessive-ethnic",
   "metadata": {},
   "outputs": [
    {
     "data": {
      "text/plain": [
       "0.8728715609439696"
      ]
     },
     "execution_count": 13,
     "metadata": {},
     "output_type": "execute_result"
    }
   ],
   "source": [
    "cosine_sim_vectors(count_vectors[0], count_vectors[1])"
   ]
  },
  {
   "cell_type": "code",
   "execution_count": 14,
   "id": "illegal-liabilities",
   "metadata": {},
   "outputs": [
    {
     "data": {
      "text/plain": [
       "0.8728715609439696"
      ]
     },
     "execution_count": 14,
     "metadata": {},
     "output_type": "execute_result"
    }
   ],
   "source": [
    "cosine_similarity([count_vectors[0]], [count_vectors[1]])[0][0]"
   ]
  },
  {
   "cell_type": "markdown",
   "id": "eight-position",
   "metadata": {},
   "source": [
    "Calculating TF-IDF"
   ]
  },
  {
   "cell_type": "code",
   "execution_count": 15,
   "id": "large-tuition",
   "metadata": {},
   "outputs": [
    {
     "data": {
      "text/plain": [
       "array([[0.        , 0.        , 0.57735027, 0.57735027, 0.        ,\n",
       "        0.        , 0.        , 0.57735027, 0.        , 0.        ],\n",
       "       [0.        , 0.        , 0.37796447, 0.37796447, 0.        ,\n",
       "        0.        , 0.        , 0.75592895, 0.37796447, 0.        ],\n",
       "       [0.        , 0.35745504, 0.        , 0.        , 0.4533864 ,\n",
       "        0.4533864 , 0.4533864 , 0.        , 0.35745504, 0.35745504],\n",
       "       [0.66767854, 0.52640543, 0.        , 0.        , 0.        ,\n",
       "        0.        , 0.        , 0.        , 0.        , 0.52640543]])"
      ]
     },
     "execution_count": 15,
     "metadata": {},
     "output_type": "execute_result"
    }
   ],
   "source": [
    "tfidf_vectors = TfidfTransformer().fit_transform(count_vectors).toarray()\n",
    "\n",
    "tfidf_vectors"
   ]
  },
  {
   "cell_type": "code",
   "execution_count": 16,
   "id": "distributed-semester",
   "metadata": {},
   "outputs": [
    {
     "data": {
      "text/plain": [
       "array([[1.        , 0.87287156, 0.        , 0.        ],\n",
       "       [0.87287156, 1.        , 0.13510531, 0.        ],\n",
       "       [0.        , 0.13510531, 1.        , 0.37633255],\n",
       "       [0.        , 0.        , 0.37633255, 1.        ]])"
      ]
     },
     "execution_count": 16,
     "metadata": {},
     "output_type": "execute_result"
    }
   ],
   "source": [
    "tfidf_csim = cosine_similarity(tfidf_vectors)\n",
    "\n",
    "tfidf_csim"
   ]
  },
  {
   "cell_type": "code",
   "execution_count": 17,
   "id": "developing-roulette",
   "metadata": {},
   "outputs": [
    {
     "data": {
      "text/plain": [
       "0.8728715609439697"
      ]
     },
     "execution_count": 17,
     "metadata": {},
     "output_type": "execute_result"
    }
   ],
   "source": [
    "cosine_similarity([tfidf_vectors[0]], [tfidf_vectors[1]])[0][0]"
   ]
  },
  {
   "cell_type": "code",
   "execution_count": null,
   "id": "alpha-procurement",
   "metadata": {},
   "outputs": [],
   "source": []
  }
 ],
 "metadata": {
  "kernelspec": {
   "display_name": "Python 3",
   "language": "python",
   "name": "python3"
  },
  "language_info": {
   "codemirror_mode": {
    "name": "ipython",
    "version": 3
   },
   "file_extension": ".py",
   "mimetype": "text/x-python",
   "name": "python",
   "nbconvert_exporter": "python",
   "pygments_lexer": "ipython3",
   "version": "3.7.6"
  }
 },
 "nbformat": 4,
 "nbformat_minor": 5
}
